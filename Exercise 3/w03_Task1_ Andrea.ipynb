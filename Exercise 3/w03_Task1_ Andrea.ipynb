{
 "cells": [
  {
   "cell_type": "markdown",
   "source": [
    "## Exercise 3\n",
    "anper@itu.dk"
   ],
   "metadata": {
    "collapsed": false
   }
  },
  {
   "cell_type": "markdown",
   "source": [
    "### Task 1"
   ],
   "metadata": {
    "collapsed": false
   }
  },
  {
   "cell_type": "markdown",
   "source": [
    "The XOR problem consists of four points $\\mathbf{x}_n$, $n=1,\\ldots,4$ from two classes, which are not linearly separable, as follows:\n",
    "\n",
    "<ol>\n",
    " <li> class 1: $\\mathbf{x}_1=\\begin{pmatrix} 1\\\\ 1 \\end{pmatrix}$, $\\mathbf{x}_2=\\begin{pmatrix} -1\\\\ -1 \\end{pmatrix}$, with labels $t_1=+1$, $t_2=+1$</li>\n",
    " <li> class 2: $\\mathbf{x}_3=\\begin{pmatrix} -1\\\\ 1 \\end{pmatrix}$, $\\mathbf{x}_4=\\begin{pmatrix} 1\\\\ -1 \\end{pmatrix}$, with labels $t_3=-1$, $t_4=-1$.</li>\n",
    "</ol>\n",
    "\n",
    "The goal of this exercise is to compute the discriminant\n",
    "$$g(\\mathbf{x}) = \\mathbf{w}^T \\mathbf{\\phi}(\\mathbf{x}),$$\n",
    "which enables a linear classification in a higher dimension using the basis function $\\mathbf{\\phi}$.\n"
   ],
   "metadata": {
    "collapsed": false
   }
  },
  {
   "cell_type": "markdown",
   "source": [
    "a) Draw the points and plot them such that the two different classes can be distinguished (either by color and or marker)."
   ],
   "metadata": {
    "collapsed": false
   }
  },
  {
   "cell_type": "code",
   "execution_count": 96,
   "outputs": [],
   "source": [
    "import numpy as np\n",
    "import matplotlib.pyplot as plt"
   ],
   "metadata": {
    "collapsed": false
   }
  },
  {
   "cell_type": "code",
   "execution_count": 97,
   "outputs": [],
   "source": [
    "# Class 1\n",
    "x1= [1, 1]\n",
    "x2 = [-1, -1]\n",
    "# Class 2\n",
    "x3 = [-1, 1]\n",
    "x4= [1, -1]"
   ],
   "metadata": {
    "collapsed": false
   }
  },
  {
   "cell_type": "code",
   "execution_count": 98,
   "outputs": [
    {
     "data": {
      "text/plain": "<Figure size 640x480 with 1 Axes>",
      "image/png": "[encoded data removed]"
     },
     "metadata": {},
     "output_type": "display_data"
    }
   ],
   "source": [
    "# Plotting Class 1 points in blue\n",
    "plt.scatter(x1[0], x1[1], color='blue', marker='o', label='Class 1')\n",
    "plt.scatter(x2[0], x2[1], color='blue', marker='o')\n",
    "\n",
    "# Plotting Class 2 points in red\n",
    "plt.scatter(x3[0], x3[1], color='red', marker='x', label='Class 2')\n",
    "plt.scatter(x4[0], x4[1], color='red', marker='x')\n",
    "\n",
    "# Setting plot labels and title\n",
    "plt.xlabel('X-axis')\n",
    "plt.ylabel('Y-axis')\n",
    "plt.title('Classes Visualization')\n",
    "plt.grid(True)\n",
    "plt.legend()\n",
    "plt.show()"
   ],
   "metadata": {
    "collapsed": false
   }
  },
  {
   "cell_type": "markdown",
   "source": [
    "b) Since the points are not linearly separable in 2D, they will be transferred to a higher dimension in an attempt to make them linearly separable in a higher dimension. Use the following basis function to transfer each of the four 2D points to 6D:\n",
    "$$\n",
    "\\mathbf{\\phi} : \\mathbb{R}^2 \\rightarrow \\mathbb{R}^6\n",
    "$$\n",
    "\n",
    "$$\n",
    "\\mathbf{\\phi}(\\mathbf{x}) = \\mathbf{\\phi} (x_1, x_2) = \\left(1, \\sqrt{2}x_1, \\sqrt{2}x_2, \\sqrt{2}x_1x_2, x_1^2, x_2^2\\right)^T\n",
    "$$\n",
    "\n",
    "i.e. calculate\n",
    "$$\n",
    "\\mathbf{z}_n = \\mathbf{\\phi}(\\mathbf{x}_n)\\), \\(n = 1, \\ldots, 4 = N)\n",
    "$$"
   ],
   "metadata": {
    "collapsed": false
   }
  },
  {
   "cell_type": "markdown",
   "source": [
    "$$\n",
    "\\mathbf{z}_1 = \\left(1, \\sqrt{2} \\cdot 1, \\sqrt{2} \\cdot 1, \\sqrt{2} \\cdot 1 \\cdot 1, 1^2, 1^2\\right)^T\n",
    "$$\n",
    "\n",
    "$$\n",
    "= \\left(1, \\sqrt{2}, \\sqrt{2}, \\sqrt{2}, 1, 1\\right)^T\n",
    "$$\n",
    "\n",
    "$$\n",
    "\\mathbf{z}_2 = \\left(1, \\sqrt{2} \\cdot (-1), \\sqrt{2} \\cdot (-1), \\sqrt{2} \\cdot (-1) \\cdot (-1), (-1)^2, (-1)^2\\right)^T\n",
    "$$\n",
    "\n",
    "$$\n",
    "= \\left(1, -\\sqrt{2}, -\\sqrt{2}, \\sqrt{2}, 1, 1\\right)^T\n",
    "$$\n",
    "\n",
    "$$\n",
    "\\mathbf{z}_3 = \\left(1, \\sqrt{2} \\cdot (-1), \\sqrt{2} \\cdot 1, \\sqrt{2} \\cdot (-1) \\cdot 1, (-1)^2, 1^2\\right)^T\n",
    "$$\n",
    "\n",
    "$$\n",
    "= \\left(1, -\\sqrt{2}, \\sqrt{2}, -\\sqrt{2}, 1, 1\\right)^T\n",
    "$$\n",
    "\n",
    "$$\n",
    "\\mathbf{z}_4 = \\left(1, \\sqrt{2} \\cdot 1, \\sqrt{2} \\cdot (-1), \\sqrt{2} \\cdot 1 \\cdot (-1), 1^2, (-1)^2\\right)^T\n",
    "$$\n",
    "\n",
    "$$\n",
    "= \\left(1, \\sqrt{2}, -\\sqrt{2}, -\\sqrt{2}, 1, 1\\right)^T\n",
    "$$\n"
   ],
   "metadata": {
    "collapsed": false
   }
  },
  {
   "cell_type": "markdown",
   "source": [
    "Transpose:\n",
    "\n",
    "\n",
    "$$\\mathbf{z}_1 = \\begin{pmatrix}\n",
    "1 \\\\\n",
    "\\sqrt{2} \\\\\n",
    "\\sqrt{2} \\\\\n",
    "\\sqrt{2} \\\\\n",
    "1 \\\\\n",
    "1 \\\\\n",
    "\\end{pmatrix}\n",
    "\n",
    "\\mathbf{z}_2 = \\begin{pmatrix}\n",
    "1 \\\\\n",
    "-\\sqrt{2} \\\\\n",
    "-\\sqrt{2} \\\\\n",
    "\\sqrt{2} \\\\\n",
    "1 \\\\\n",
    "1 \\\\\n",
    "\\end{pmatrix}\n",
    "\n",
    "\\mathbf{z}_3 = \\begin{pmatrix}\n",
    "1 \\\\\n",
    "-\\sqrt{2} \\\\\n",
    "\\sqrt{2} \\\\\n",
    "-\\sqrt{2} \\\\\n",
    "1 \\\\\n",
    "1 \\\\\n",
    "\\end{pmatrix}\n",
    "\n",
    "\\mathbf{z}_4 = \\begin{pmatrix}\n",
    "1 \\\\\n",
    "\\sqrt{2} \\\\\n",
    "-\\sqrt{2} \\\\\n",
    "-\\sqrt{2} \\\\\n",
    "1 \\\\\n",
    "1 \\\\\n",
    "\\end{pmatrix}$$\n"
   ],
   "metadata": {
    "collapsed": false
   }
  },
  {
   "cell_type": "code",
   "execution_count": 99,
   "outputs": [
    {
     "name": "stdout",
     "output_type": "stream",
     "text": [
      "z1: [1.         1.41421356 1.41421356 1.41421356 1.         1.        ]\n",
      "z2: [ 1.         -1.41421356 -1.41421356  1.41421356  1.          1.        ]\n",
      "z3: [ 1.         -1.41421356  1.41421356 -1.41421356  1.          1.        ]\n",
      "z4: [ 1.          1.41421356 -1.41421356 -1.41421356  1.          1.        ]\n"
     ]
    }
   ],
   "source": [
    "# Define the transformed points z_n = phi(x_n)\n",
    "z = np.array([[1, np.sqrt(2), np.sqrt(2), np.sqrt(2), 1, 1],\n",
    "              [1, -np.sqrt(2), -np.sqrt(2), np.sqrt(2), 1, 1],\n",
    "              [1, -np.sqrt(2), np.sqrt(2), -np.sqrt(2), 1, 1],\n",
    "              [1, np.sqrt(2), -np.sqrt(2), -np.sqrt(2), 1, 1]])\n",
    "\n",
    "z1, z2, z3, z4 = z\n",
    "\n",
    "print(\"z1:\", z1)\n",
    "print(\"z2:\", z2)\n",
    "print(\"z3:\", z3)\n",
    "print(\"z4:\", z4)"
   ],
   "metadata": {
    "collapsed": false
   }
  },
  {
   "cell_type": "markdown",
   "source": [
    "c) Use the known values to complete Eq. (7.10) from Bishop [PR]\n",
    "\t$$\\tilde{L}(\\mathbf{a})=\\tilde{L}\\left(a_1,a_2,a_3,a_4 \\right) =\\sum\\limits_{n=1}^4 a_n -\\frac{1}{2} \\sum\\limits_{m=1}^4 \\sum\\limits_{n=1}^4 a_n a_m t_n t_m \\mathbf{\\phi}(\\mathbf{x}_n)^T\\mathbf{\\phi}(\\mathbf{x}_m)$$,\n",
    "\t where k$(\\mathbf{x}_n,\\mathbf{x}_m)=\\mathbf{\\phi}(\\mathbf{x}_n)^T\\mathbf{\\phi}(\\mathbf{x}_m)$. Note: The values $a_n$ are unknown at this point. A solution for this specific data set will be derived by you in task e."
   ],
   "metadata": {
    "collapsed": false
   }
  },
  {
   "cell_type": "markdown",
   "source": [
    "$$\n",
    "\\text{The Lagrange dual function has the term:}\n",
    "$$\n",
    "\n",
    "$$\n",
    "k(\\mathbf{x}_n, \\mathbf{x}_m) = \\mathbf{\\phi}(\\mathbf{x}_n)^T \\mathbf{\\phi}(\\mathbf{x}_m)\n",
    "$$\n",
    "\n",
    "$$\n",
    "\\text{For } n = 1, m = 1:\n",
    "$$\n",
    "\n",
    "$$\n",
    "k(\\mathbf{x}_1, \\mathbf{x}_1) = \\mathbf{z}_1^T \\mathbf{z}_1\n",
    "= \\left[ 1, \\sqrt{2}, \\sqrt{2}, 2, 1, 1 \\right] \\left[ 1, \\sqrt{2}, \\sqrt{2}, 2, 1, 1 \\right]^T\n",
    "$$\n",
    "\n",
    "$$\n",
    "\\text{For } n = 1, m = 2:\n",
    "$$\n",
    "\n",
    "$$\n",
    "k(\\mathbf{x}_1, \\mathbf{x}_2) = \\mathbf{z}_1^T \\mathbf{z}_2\n",
    "= \\left[ 1, \\sqrt{2}, \\sqrt{2}, 2, 1, 1 \\right] \\left[ 1, -\\sqrt{2}, -\\sqrt{2}, 2, 1, 1 \\right]^T\n",
    "$$\n",
    "\n",
    "$$\n",
    "\\text{... and so on for every combination of } n \\text{ and } m.\n",
    "$$\n",
    "\n",
    "$$\n",
    "\\text{The kernel matrix:}\n",
    "$$\n",
    "\n",
    "$$\n",
    "\\begin{bmatrix}\n",
    "k(\\mathbf{x}_1, \\mathbf{x}_1) & k(\\mathbf{x}_1, \\mathbf{x}_2) & k(\\mathbf{x}_1, \\mathbf{x}_3) & k(\\mathbf{x}_1, \\mathbf{x}_4) \\\\\n",
    "k(\\mathbf{x}_2, \\mathbf{x}_1) & k(\\mathbf{x}_2, \\mathbf{x}_2) & k(\\mathbf{x}_2, \\mathbf{x}_3) & k(\\mathbf{x}_2, \\mathbf{x}_4) \\\\\n",
    "k(\\mathbf{x}_3, \\mathbf{x}_1) & k(\\mathbf{x}_3, \\mathbf{x}_2) & k(\\mathbf{x}_3, \\mathbf{x}_3) & k(\\mathbf{x}_3, \\mathbf{x}_4) \\\\\n",
    "k(\\mathbf{x}_4, \\mathbf{x}_1) & k(\\mathbf{x}_4, \\mathbf{x}_2) & k(\\mathbf{x}_4, \\mathbf{x}_3) & k(\\mathbf{x}_4, \\mathbf{x}_4) \\\\\n",
    "\\end{bmatrix}\n",
    "$$\n",
    "\n",
    "\n",
    "\n"
   ],
   "metadata": {
    "collapsed": false
   }
  },
  {
   "cell_type": "code",
   "execution_count": 100,
   "outputs": [
    {
     "name": "stdout",
     "output_type": "stream",
     "text": [
      "[[9. 1. 1. 1.]\n",
      " [1. 9. 1. 1.]\n",
      " [1. 1. 9. 1.]\n",
      " [1. 1. 1. 9.]]\n"
     ]
    }
   ],
   "source": [
    "def kernel(xn, xm):\n",
    "    return np.dot(xn, xm)\n",
    "\n",
    "k_values = []\n",
    "for z_i in [z1, z2, z3, z4]:\n",
    "    row = []\n",
    "    for z_j in [z1, z2, z3, z4]:\n",
    "        row.append(kernel(z_i, z_j))\n",
    "    k_values.append(row)\n",
    "\n",
    "print(np.array(k_values))"
   ],
   "metadata": {
    "collapsed": false
   }
  },
  {
   "cell_type": "markdown",
   "source": [
    "d) Compute the derivative of $\\tilde{L}(\\mathbf{a} )$ with respect to $a_k$, i.e. the four components of the gradient\n",
    "$$\\nabla \\tilde{L}(\\mathbf{a}) =  \\begin{pmatrix} \\frac{\\partial}{\\partial a_1} \\tilde{L}\\left(a_1,a_2,a_3,a_4 \\right) \\\\\t\t\t\t\\frac{\\partial}{\\partial a_2} \\tilde{L}\\left(a_1,a_2,a_3,a_4 \\right)\\\\\t\t\t\t\\frac{\\partial}{\\partial a_3} \\tilde{L}\\left(a_1,a_2,a_3,a_4 \\right)\\\\\t\t\t\t\\frac{\\partial}{\\partial a_4} \\tilde{L}\\left(a_1,a_2,a_3,a_4 \\right) \\end{pmatrix} = \\ldots  $$"
   ],
   "metadata": {
    "collapsed": false
   }
  },
  {
   "cell_type": "markdown",
   "source": [
    "$$\n",
    "\\frac{\\partial}{\\partial a_1} \\tilde{L}(\\mathbf{a}) = 1 - \\sum_{m=1}^{4} a_m t_1 t_m k(\\mathbf{x}_1, \\mathbf{x}_m)\n",
    "$$\n",
    "\n",
    "$$\n",
    "= 1 - a_1 t_1 t_1 k(\\mathbf{x}_1, \\mathbf{x}_1) - a_2 t_1 t_2 k(\\mathbf{x}_1, \\mathbf{x}_2) - a_3 t_1 t_3 k(\\mathbf{x}_1, \\mathbf{x}_3) - a_4 t_1 t_4 k(\\mathbf{x}_1, \\mathbf{x}_4)\n",
    "$$\n",
    "\n",
    "$$\n",
    "= 1 - 9a_1 - a_2 + a_3 + a_4\n",
    "$$\n",
    "\n",
    "$$\n",
    "\\frac{\\partial}{\\partial a_2} \\tilde{L}(\\mathbf{a}) = 1 - \\sum_{m=1}^{4} a_m t_2 t_m k(\\mathbf{x}_2, \\mathbf{x}_m)\n",
    "$$\n",
    "\n",
    "$$\n",
    "= 1 - a_1 t_2 t_1 k(\\mathbf{x}_2, \\mathbf{x}_1) - a_2 t_2 t_2 k(\\mathbf{x}_2, \\mathbf{x}_2) - a_3 t_2 t_3 k(\\mathbf{x}_2, \\mathbf{x}_3) - a_4 t_2 t_4 k(\\mathbf{x}_2, \\mathbf{x}_4)\n",
    "$$\n",
    "\n",
    "$$\n",
    "= 1 - a_1 - 9a_2 + a_3 + a_4\n",
    "$$\n",
    "\n",
    "$$\n",
    "\\frac{\\partial}{\\partial a_3} \\tilde{L}(\\mathbf{a}) = 1 - \\sum_{m=1}^{4} a_m t_3 t_m k(\\mathbf{x}_3, \\mathbf{x}_m)\n",
    "$$\n",
    "\n",
    "$$\n",
    "= 1 - a_1 t_3 t_1 k(\\mathbf{x}_3, \\mathbf{x}_1) - a_2 t_3 t_2 k(\\mathbf{x}_3, \\mathbf{x}_2) - a_3 t_3 t_3 k(\\mathbf{x}_3, \\mathbf{x}_3) - a_4 t_3 t_4 k(\\mathbf{x}_3, \\mathbf{x}_4)\n",
    "$$\n",
    "\n",
    "$$\n",
    "= 1 + a_1 + a_2 - 9a_3 - a_4\n",
    "$$\n",
    "\n",
    "$$\n",
    "\\frac{\\partial}{\\partial a_4} \\tilde{L}(\\mathbf{a}) = 1 - \\sum_{m=1}^{4} a_m t_4 t_m k(\\mathbf{x}_4, \\mathbf{x}_m)\n",
    "$$\n",
    "\n",
    "$$\n",
    "= 1 - a_1 t_4 t_1 k(\\mathbf{x}_4, \\mathbf{x}_1) - a_2 t_4 t_2 k(\\mathbf{x}_4, \\mathbf{x}_2) - a_3 t_4 t_3 k(\\mathbf{x}_4, \\mathbf{x}_3) - a_4 t_4 t_4 k(\\mathbf{x}_4, \\mathbf{x}_4)\n",
    "$$\n",
    "\n",
    "$$\n",
    "= 1 + a_1 + a_2 - a_3 - 9a_4\n",
    "$$\n",
    "\n",
    "\n"
   ],
   "metadata": {
    "collapsed": false
   }
  },
  {
   "cell_type": "markdown",
   "source": [
    "e) Derive the equation system from $\\nabla\\tilde{L}(\\mathbf{a})=0$ and solve for $\\mathbf{a}=\\left(a_1,a_2,a_3,a_4 \\right)^T$.\n",
    "\tHint: One example to rewrite a 2D gradient of a function into a non-homogeneous equation system: $$ \\nabla f(\\mathbf{x})= \\begin{pmatrix} x_1+3x_2 + b_1\\\\2x_1-x_2+b_2\\end{pmatrix} = \\begin{pmatrix} 1 &3\\\\2& -1\\end{pmatrix}\\begin{pmatrix} x_1\\\\ x_2\\end{pmatrix}+ \\begin{pmatrix} b_1\\\\ b_2 \\end{pmatrix}= \\mathbf{A}\\mathbf{x}+\\mathbf{b} \\stackrel{!}{=} \\mathbf{0}$$"
   ],
   "metadata": {
    "collapsed": false
   }
  },
  {
   "cell_type": "markdown",
   "source": [
    "$$\n",
    "\\begin{align*}\n",
    "1 - 9a_1 - a_2 + a_3 + a_4 &= 0 \\\\\n",
    "1 - a_1 - 9a_2 + a_3 + a_4 &= 0 \\\\\n",
    "1 + a_1 + a_2 - 9a_3 - a_4 &= 0 \\\\\n",
    "1 + a_1 + a_2 - a_3 - 9a_4 &= 0 \\\\\n",
    "\\end{align*}\n",
    "$$\n",
    "$$\n",
    "\\begin{bmatrix}\n",
    "-9 & -1 & 1 & 1 \\\\\n",
    "-1 & -9 & 1 & 1 \\\\\n",
    "1 & 1 & -9 & -1 \\\\\n",
    "1 & 1 & -1 & -9 \\\\\n",
    "\\end{bmatrix}\n",
    "\\begin{bmatrix}\n",
    "a_1 \\\\\n",
    "a_2\\\\\n",
    "a_3\\\\\n",
    "a_4\\\\\n",
    "\\end{bmatrix}\n",
    "=\n",
    "\\begin{bmatrix}\n",
    "-1 \\\\\n",
    "-1 \\\\\n",
    "-1 \\\\\n",
    "-1 \\\\\n",
    "\\end{bmatrix}\n",
    "$$"
   ],
   "metadata": {
    "collapsed": false
   }
  },
  {
   "cell_type": "code",
   "execution_count": 101,
   "outputs": [
    {
     "name": "stdout",
     "output_type": "stream",
     "text": [
      "[0.125 0.125 0.125 0.125]\n"
     ]
    }
   ],
   "source": [
    "# Define matrix A using numpy arrays\n",
    "A = np.array([[-9, -1, 1, 1],\n",
    "              [-1, -9, 1, 1],\n",
    "              [1, 1, -9, -1],\n",
    "              [1, 1, -1, -9]])\n",
    "\n",
    "# Define matrix B\n",
    "b = np.array([-1, -1, -1, -1])\n",
    "\n",
    "# Solve the linear system of equations for a\n",
    "a = np.linalg.solve(A, b)\n",
    "\n",
    "print(a)"
   ],
   "metadata": {
    "collapsed": false
   }
  },
  {
   "cell_type": "markdown",
   "source": [
    "f) Which of the four training points are support vectors? How do the values of $a_n$ answer this question?\n",
    "\n",
    "R = The non-zero values of $a_n$ indicate that the corresponding training point is a support vector. Since all $a_n$ values are non-zero, all training points are support vectors."
   ],
   "metadata": {
    "collapsed": false
   }
  },
  {
   "cell_type": "markdown",
   "source": [
    "g) Now that all four values of $\\mathbf{a}$ have been computed, employ Eq.(7.29) to compute $\\mathbf{w}$:\n",
    "\t$$\n",
    "\t\\mathbf{w} = \\sum_{n=1}^4 a_n  t_n \\mathbf{z}_n = \\sum_{n=1}^4 a_n  t_n \\mathbf{\\phi}(\\mathbf{x}_n)\n",
    "\t$$\n",
    "\n",
    "Please note: $\\mathbf{w},\\mathbf{z}_n\\in\\mathbb{R}^6$ and  $t_n\\in\\mathbb{R}$."
   ],
   "metadata": {
    "collapsed": false
   }
  },
  {
   "cell_type": "code",
   "execution_count": 102,
   "outputs": [
    {
     "name": "stdout",
     "output_type": "stream",
     "text": [
      "[ 2.77555756e-17 -5.55111512e-17  3.92523115e-17  7.07106781e-01\n",
      "  2.77555756e-17  2.77555756e-17]\n"
     ]
    }
   ],
   "source": [
    "# Given labels t\n",
    "t = np.array([1, 1, -1, -1])\n",
    "\n",
    "# Calculate w\n",
    "w = np.dot(a * t, z)\n",
    "print(w)"
   ],
   "metadata": {
    "collapsed": false
   }
  },
  {
   "cell_type": "markdown",
   "source": [
    "h) Give the discriminant function $g$ based on the original input space\n",
    "\t $$g(\\mathbf{x}) = g(x_1,x_2)= \\mathbf{w}^T \\mathbf{\\phi}(\\mathbf{x})= \\ldots$$\n"
   ],
   "metadata": {
    "collapsed": false
   }
  },
  {
   "cell_type": "code",
   "execution_count": 103,
   "outputs": [
    {
     "data": {
      "text/plain": "array([ 1.,  1., -1., -1.])"
     },
     "execution_count": 103,
     "metadata": {},
     "output_type": "execute_result"
    }
   ],
   "source": [
    "g_x = np.dot(z, w.T)\n",
    "g_x"
   ],
   "metadata": {
    "collapsed": false
   }
  },
  {
   "cell_type": "markdown",
   "source": [
    "i) Apply the discriminant function and compute the resulting values for the training input samples $g(\\mathbf{x}_i)$, $i=1,\\ldots, 4$. How are they classified? Are they correctly classified? </li>\n",
    "</ol>"
   ],
   "metadata": {
    "collapsed": false
   }
  },
  {
   "cell_type": "code",
   "execution_count": 104,
   "outputs": [
    {
     "name": "stdout",
     "output_type": "stream",
     "text": [
      "g(x_1) = 1.0. Classified as Class 1\n",
      "g(x_2) = 1.0. Classified as Class 1\n",
      "g(x_3) = -0.9999999999999999. Classified as Class 2\n",
      "g(x_4) = -1.0. Classified as Class 2\n"
     ]
    }
   ],
   "source": [
    "for i in range(4):\n",
    "    g_x = np.dot(w, z[i])\n",
    "    print(f\"g(x_{i+1}) = {g_x}. Classified as {'Class 1' if g_x > 0 else 'Class 2'}\")"
   ],
   "metadata": {
    "collapsed": false
   }
  },
  {
   "cell_type": "markdown",
   "source": [
    "$x_1$ and $x_2$ are in Class 1 and have labels $t_1 = +1$ and $t_2 = +1$.\n",
    "Both $x_1$ and $x_2$ are correctly classified as Class 1 by the discriminant function.\n",
    "$x_3$ and $x_4$ are in Class 2 and have labels $t_3 = -1$ and $t_3 = -1$.\n",
    "Both $x_3$ and $x_4$ are correctly classified as Class 2 by the discriminant function.\n",
    "\n",
    "In conclusion, all of the training points are correctly classified based on the provided labels."
   ],
   "metadata": {
    "collapsed": false
   }
  },
  {
   "cell_type": "code",
   "execution_count": null,
   "outputs": [],
   "source": [],
   "metadata": {
    "collapsed": false
   }
  }
 ],
 "metadata": {
  "kernelspec": {
   "display_name": "Python 3",
   "language": "python",
   "name": "python3"
  },
  "language_info": {
   "codemirror_mode": {
    "name": "ipython",
    "version": 2
   },
   "file_extension": ".py",
   "mimetype": "text/x-python",
   "name": "python",
   "nbconvert_exporter": "python",
   "pygments_lexer": "ipython2",
   "version": "2.7.6"
  }
 },
 "nbformat": 4,
 "nbformat_minor": 0
}
